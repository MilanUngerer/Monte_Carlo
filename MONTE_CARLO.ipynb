{
 "cells": [
  {
   "cell_type": "markdown",
   "metadata": {},
   "source": [
    "# Oscilador armónico unidimesional con el Método de Monte Carlo"
   ]
  },
  {
   "cell_type": "markdown",
   "metadata": {},
   "source": [
    "## Modelo"
   ]
  },
  {
   "cell_type": "markdown",
   "metadata": {},
   "source": [
    "Consideramos un oscilador armónico de una dimensión con un espectro de energía dado por:"
   ]
  },
  {
   "cell_type": "markdown",
   "metadata": {},
   "source": [
    "$E_n = \\hbar \\omega (n+1/2)$"
   ]
  },
  {
   "cell_type": "markdown",
   "metadata": {},
   "source": [
    "Para su resolución se utilizará el proceso de Markov que considera que cada estado microscópico sólo depende del último estado y no de los visitados anteriormente. Adicionalmente, se tiene la Condición de Balance Detallado (CBR) descrita a continuación."
   ]
  },
  {
   "cell_type": "markdown",
   "metadata": {},
   "source": [
    "$W(q' \\rightarrow q)P_{eq}(q')-W(q \\rightarrow q')P_{eq}(q)=0$"
   ]
  },
  {
   "cell_type": "markdown",
   "metadata": {},
   "source": [
    "A partir de esto, podemos utilizar el algoritmo de Metrópolis para aplicar el método de Monte Carlo a nuestro sistema. "
   ]
  },
  {
   "cell_type": "markdown",
   "metadata": {},
   "source": [
    "## Aplicación"
   ]
  },
  {
   "cell_type": "markdown",
   "metadata": {},
   "source": [
    "Definimos librerías a utilizar"
   ]
  },
  {
   "cell_type": "code",
   "execution_count": 1,
   "metadata": {
    "collapsed": false
   },
   "outputs": [],
   "source": [
    "#######################################################\n",
    "import numpy as np                  # Libreria numpy ##\n",
    "from numba import jit, njit, prange # Libreria numba ##\n",
    "from math import exp                # importar exp ####\n",
    "#######################################################"
   ]
  },
  {
   "cell_type": "markdown",
   "metadata": {},
   "source": [
    "definición de la función que moverá nuestro estado adelante o atrás $n \\rightarrow n' = \\pm 1$ con probabilidad uniforme."
   ]
  },
  {
   "cell_type": "code",
   "execution_count": 2,
   "metadata": {
    "collapsed": false
   },
   "outputs": [],
   "source": [
    "@jit\n",
    "def E(it, beta, n, hw, cont):\n",
    "    En = hw*(n + 0.5) #energia inicial\n",
    "    E = np.zeros(it)\n",
    "    for i in range (it):\n",
    "        nprima = n + np.random.choice([-1,1]) #estado n'\n",
    "    \n",
    "        if nprima < 0:\n",
    "            nprima = n + 1.\n",
    "        else:\n",
    "            nprima = nprima\n",
    "        \n",
    "        Enp = hw*(nprima + 0.5) #energia para estado n'\n",
    "        DE = Enp - En #delta de energia\n",
    "        if DE <= 0:\n",
    "            n = nprima\n",
    "            En = Enp\n",
    "\n",
    "        elif DE > 0:\n",
    "            zeta = np.random.random_sample() #numero random entre 0,1\n",
    "            alfa = zeta - np.exp(-beta*DE)\n",
    "            if alfa >= 0:\n",
    "                n = n\n",
    "            elif alfa < 0:\n",
    "                n = nprima\n",
    "                En = Enp\n",
    "    \n",
    "        E[i] = En\n",
    "#        if i%200000 == 0:\n",
    "#            print ('van', i  ,'iteraciones')\n",
    "    \n",
    "    return E"
   ]
  },
  {
   "cell_type": "markdown",
   "metadata": {},
   "source": [
    "Definición de la variables a utilizar"
   ]
  },
  {
   "cell_type": "code",
   "execution_count": 3,
   "metadata": {
    "collapsed": false
   },
   "outputs": [],
   "source": [
    "hw = 1. \n",
    "k = 1.\n",
    "T = 100. #Temperatura\n",
    "beta = 1./(k*T)\n",
    "n = 50. #estado inicial\n",
    "it = 2500000 #numero de iteraciones\n",
    "cont = 0\n",
    "Energy = E(it, beta, n, hw, cont) #array con las energias en cada monte carlo step (MCS)"
   ]
  },
  {
   "cell_type": "markdown",
   "metadata": {},
   "source": [
    "Cálculo de la energía promedio y fluctuación"
   ]
  },
  {
   "cell_type": "code",
   "execution_count": 4,
   "metadata": {
    "collapsed": false
   },
   "outputs": [],
   "source": [
    "@njit(parallel=True)\n",
    "def Mean12_Evaluate(arr): #funcion que toma la energia promedio HASTA cada MCS\n",
    "#    print len(arr)\n",
    "    Resultado1 = np.zeros(len(arr))\n",
    "    Resultado2 = np.zeros(len(arr))\n",
    "    Resultado = np.zeros((2,len(arr)))\n",
    "    arr2 = np.zeros(len(arr))\n",
    "    \n",
    "    arr2[:] = arr[:]**2\n",
    "    for ii in prange (1,len(arr)):\n",
    "        Resultado1[ii] = np.mean(arr[:ii])\n",
    "        Resultado2[ii] = np.mean(arr2[:ii])\n",
    "#        if ii%100000 == 0:\n",
    "#            print 'van', ii, 'iteraciones'\n",
    "    Resultado[0,:] = Resultado1[:]\n",
    "    Resultado[1,:] = Resultado2[:] \n",
    "    return Resultado"
   ]
  },
  {
   "cell_type": "code",
   "execution_count": 5,
   "metadata": {
    "collapsed": false
   },
   "outputs": [],
   "source": [
    "#Definicion de arrays\n",
    "E2 = np.zeros(it)\n",
    "Eprom = np.zeros(it)\n",
    "E2prom = np.zeros(it)\n",
    "Eprom2 = np.zeros(it)\n",
    "Sigma = np.zeros(it)\n",
    "\n",
    "#calculo de promedios y fluctuaciones\n",
    "Variables = Mean12_Evaluate(Energy)  \n",
    "Eprom[:] = Variables[0,:]       #energia promedio hasta cada MCS   \n",
    "E2prom[:] = Variables[1,:]      #energia al cuadrado promedio hasta cada MCS\n",
    "Eprom2[:] = Eprom[:]**2         #energia promedio hasta cada MCS al cuadrado\n",
    "Sigma[:] = E2prom[:]-Eprom2[:]  #fluctuacion"
   ]
  },
  {
   "cell_type": "markdown",
   "metadata": {},
   "source": [
    "### Gráficos"
   ]
  },
  {
   "cell_type": "code",
   "execution_count": 18,
   "metadata": {
    "collapsed": false
   },
   "outputs": [
    {
     "data": {
      "image/png": "[encoded data removed]",
      "text/plain": [
       "<matplotlib.figure.Figure at 0x7ff7b883be10>"
      ]
     },
     "metadata": {},
     "output_type": "display_data"
    },
    {
     "name": "stdout",
     "output_type": "stream",
     "text": [
      "El valor del ultimo MCS es: 100.835010134\n"
     ]
    }
   ],
   "source": [
    "import matplotlib.pyplot as plt\n",
    "\n",
    "plt.ticklabel_format(style='sci', axis='x', scilimits=(0,0))\n",
    "plt.plot(np.linspace(0,len(Eprom[:]),len(Eprom[:])), Eprom[:])\n",
    "plt.ylabel(r'$\\langle E \\rangle$')\n",
    "plt.xlabel('Monte Carlo steps (MCS)')\n",
    "plt.title(r'$\\langle E \\rangle$ vs MCS')\n",
    "plt.grid(True)\n",
    "plt.show()\n",
    "print 'El valor del ultimo MCS es:', Eprom[-1:][0]"
   ]
  },
  {
   "cell_type": "code",
   "execution_count": 19,
   "metadata": {
    "collapsed": false
   },
   "outputs": [
    {
     "data": {
      "image/png": "[encoded data removed]",
      "text/plain": [
       "<matplotlib.figure.Figure at 0x7ff7b4454890>"
      ]
     },
     "metadata": {},
     "output_type": "display_data"
    },
    {
     "name": "stdout",
     "output_type": "stream",
     "text": [
      "El valor del ultimo MCS es: 10659.7000133\n"
     ]
    }
   ],
   "source": [
    "plt.ticklabel_format(style='sci', axis='x', scilimits=(0,0))\n",
    "plt.plot(np.linspace(0,len(Sigma[:]),len(Sigma[:])), Sigma[:])\n",
    "plt.ylabel(r'$\\langle E^2 \\rangle - \\langle E \\rangle^2$')\n",
    "plt.xlabel('Monte Carlo steps (MCS)')\n",
    "plt.title(r'$\\langle E^2 \\rangle - \\langle E \\rangle^2$ vs MCS')\n",
    "plt.grid(True)\n",
    "plt.show()\n",
    "print 'El valor del ultimo MCS es:', Sigma[-1:][0]"
   ]
  },
  {
   "cell_type": "markdown",
   "metadata": {},
   "source": [
    "## Comparación con valor \"exacto\""
   ]
  },
  {
   "cell_type": "markdown",
   "metadata": {},
   "source": [
    "Ahora compararemos nuestro resultado con el valor exacto dado por el ensemble canónico"
   ]
  },
  {
   "cell_type": "markdown",
   "metadata": {
    "collapsed": true
   },
   "source": [
    "$\\langle\\epsilon\\rangle = \\hbar\\omega \\left(\\frac{1}{e^{\\frac{\\hbar\\omega}{kT}}-1} + \\frac{1}{2} \\right)$"
   ]
  },
  {
   "cell_type": "code",
   "execution_count": 8,
   "metadata": {
    "collapsed": false
   },
   "outputs": [
    {
     "name": "stdout",
     "output_type": "stream",
     "text": [
      "El valor exacto es = 100.000833332\n"
     ]
    }
   ],
   "source": [
    "e = hw*((1/(exp(hw*beta)-1))+0.5)\n",
    "print 'El valor exacto es =', e"
   ]
  },
  {
   "cell_type": "markdown",
   "metadata": {},
   "source": [
    "Podemos calcular además,"
   ]
  },
  {
   "cell_type": "markdown",
   "metadata": {},
   "source": [
    "$\\langle E^2 \\rangle - \\langle E \\rangle^2 = kT^2 C_v$"
   ]
  },
  {
   "cell_type": "markdown",
   "metadata": {},
   "source": [
    "$C_v = k \\left( \\frac{\\hbar \\omega}{kT} \\right)^2 \\frac{e^{\\hbar\\omega/kT}}{\\left( e^{\\beta\\hbar\\omega} -1 \\right)^2}$"
   ]
  },
  {
   "cell_type": "code",
   "execution_count": 9,
   "metadata": {
    "collapsed": false
   },
   "outputs": [
    {
     "name": "stdout",
     "output_type": "stream",
     "text": [
      "El valor exacto de $\\DeltaE$ es = 9999.91666708\n"
     ]
    }
   ],
   "source": [
    "Cv = k*(hw*beta)**2 *exp(hw*beta)/((exp(hw*beta)-1)**2)\n",
    "DeltaE = Cv*k*T**2\n",
    "print r'El valor exacto de $\\DeltaE$ es =', DeltaE"
   ]
  },
  {
   "cell_type": "code",
   "execution_count": null,
   "metadata": {
    "collapsed": true
   },
   "outputs": [],
   "source": []
  }
 ],
 "metadata": {
  "anaconda-cloud": {},
  "kernelspec": {
   "display_name": "Python [conda root]",
   "language": "python",
   "name": "conda-root-py"
  },
  "language_info": {
   "codemirror_mode": {
    "name": "ipython",
    "version": 2
   },
   "file_extension": ".py",
   "mimetype": "text/x-python",
   "name": "python",
   "nbconvert_exporter": "python",
   "pygments_lexer": "ipython2",
   "version": "2.7.12"
  }
 },
 "nbformat": 4,
 "nbformat_minor": 1
}
